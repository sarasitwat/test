{
  "metadata": {
    "kernelspec": {
      "name": "python",
      "display_name": "Pyolite",
      "language": "python"
    },
    "language_info": {
      "codemirror_mode": {
        "name": "python",
        "version": 3
      },
      "file_extension": ".py",
      "mimetype": "text/x-python",
      "name": "python",
      "nbconvert_exporter": "python",
      "pygments_lexer": "ipython3",
      "version": "3.8"
    }
  },
  "nbformat_minor": 4,
  "nbformat": 4,
  "cells": [
    {
      "cell_type": "markdown",
      "source": "<center>\n    <img src=\"https://cf-courses-data.s3.us.cloud-object-storage.appdomain.cloud/IBMDeveloperSkillsNetwork-DS0105EN-SkillsNetwork/labs/Module2/images/SN_web_lightmode.png\" width=\"300\" alt=\"cognitiveclass.ai logo\"  />\n</center>\n",
      "metadata": {}
    },
    {
      "cell_type": "markdown",
      "source": "#### Add your code below following the instructions given in the course\n",
      "metadata": {}
    },
    {
      "cell_type": "markdown",
      "source": "## My Jupyter Notebook on IBM Watson Studio",
      "metadata": {}
    },
    {
      "cell_type": "markdown",
      "source": "<b> Sara Sitwat </b>\n<n> Banker </n>",
      "metadata": {}
    },
    {
      "cell_type": "markdown",
      "source": "*I am interested in data science because I find the field very fascinating*",
      "metadata": {}
    },
    {
      "cell_type": "markdown",
      "source": "<h3> My code will switch the values of x and y</h3>",
      "metadata": {}
    },
    {
      "cell_type": "code",
      "source": "x= 6\ny=12\nprint(\"x is:\",x,\"y is:\",y)\ntemp=x\nx=y\ny=temp\nprint(\"After exchange x is:\",x,\"y is:\",y)",
      "metadata": {
        "trusted": true
      },
      "execution_count": 4,
      "outputs": [
        {
          "name": "stdout",
          "text": "x is: 6 y is: 12\nAfter exchange x is: 12 y is: 6\n",
          "output_type": "stream"
        }
      ]
    },
    {
      "cell_type": "markdown",
      "source": "`Things I liked about this course:`\n- It was engaging\n- It increased my knowledge\n- It used real world examples\n<a href=\"https://www.google.com/url?sa=i&url=https%3A%2F%2Fen.wikipedia.org%2Fwiki%2FGiant_panda&psig=AOvVaw08WT7AAOopzdB8f1tlrq2E&ust=1672474311020000&source=images&cd=vfe&ved=0CBAQjRxqFwoTCJC3-rryoPwCFQAAAAAdAAAAABAE\"> Click here for a surprise</a>\n",
      "metadata": {}
    },
    {
      "cell_type": "code",
      "source": "",
      "metadata": {},
      "execution_count": null,
      "outputs": []
    }
  ]
}